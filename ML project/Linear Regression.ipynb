{
 "cells": [
  {
   "cell_type": "markdown",
   "id": "661a2ea4",
   "metadata": {},
   "source": [
    "# Project steps:"
   ]
  },
  {
   "cell_type": "raw",
   "id": "0137052b",
   "metadata": {},
   "source": [
    "1.Problem statement\n",
    "2.Data gathering\n",
    "3.Exploratory Data Analysis (EDA)\n",
    "4.Feature Enginnering\n",
    "5.Feature Selection\n",
    "6.Model Building/Training\n",
    "7.Model Evaluation\n",
    "8.Project Deployment"
   ]
  },
  {
   "cell_type": "markdown",
   "id": "a822b253",
   "metadata": {},
   "source": [
    "# Import all the require libraries:"
   ]
  },
  {
   "cell_type": "code",
   "execution_count": 43,
   "id": "7d96c58b",
   "metadata": {},
   "outputs": [],
   "source": [
    "import pandas as pd\n",
    "import numpy as np\n",
    "import matplotlib.pyplot as plt\n",
    "import seaborn as sns\n",
    "\n",
    "from sklearn.linear_model import LinearRegression\n",
    "from sklearn.model_selection import train_test_split\n",
    "from sklearn.metrics import mean_squared_error, mean_absolute_error, r2_score\n",
    "from sklearn.preprocessing import LabelEncoder, OneHotEncoder"
   ]
  },
  {
   "cell_type": "markdown",
   "id": "9673ee8f",
   "metadata": {},
   "source": [
    "# 1.Problem statement:"
   ]
  },
  {
   "cell_type": "raw",
   "id": "07d028de",
   "metadata": {},
   "source": [
    "A clear statement that describe the initial state of a problem that is to be solved.\n",
    "What we need to prdict on which i/p variables.\n",
    "\n",
    "Here:\n",
    " To predict the SepalLength from the other independent variables."
   ]
  },
  {
   "cell_type": "markdown",
   "id": "f49ff3bd",
   "metadata": {},
   "source": [
    "# 2.Data Gathering:"
   ]
  },
  {
   "cell_type": "code",
   "execution_count": 2,
   "id": "77489fe5",
   "metadata": {},
   "outputs": [
    {
     "data": {
      "text/html": [
       "<div>\n",
       "<style scoped>\n",
       "    .dataframe tbody tr th:only-of-type {\n",
       "        vertical-align: middle;\n",
       "    }\n",
       "\n",
       "    .dataframe tbody tr th {\n",
       "        vertical-align: top;\n",
       "    }\n",
       "\n",
       "    .dataframe thead th {\n",
       "        text-align: right;\n",
       "    }\n",
       "</style>\n",
       "<table border=\"1\" class=\"dataframe\">\n",
       "  <thead>\n",
       "    <tr style=\"text-align: right;\">\n",
       "      <th></th>\n",
       "      <th>Id</th>\n",
       "      <th>SepalLengthCm</th>\n",
       "      <th>SepalWidthCm</th>\n",
       "      <th>PetalLengthCm</th>\n",
       "      <th>PetalWidthCm</th>\n",
       "      <th>Species</th>\n",
       "    </tr>\n",
       "  </thead>\n",
       "  <tbody>\n",
       "    <tr>\n",
       "      <th>0</th>\n",
       "      <td>1</td>\n",
       "      <td>5.1</td>\n",
       "      <td>3.5</td>\n",
       "      <td>1.4</td>\n",
       "      <td>0.2</td>\n",
       "      <td>Iris-setosa</td>\n",
       "    </tr>\n",
       "    <tr>\n",
       "      <th>1</th>\n",
       "      <td>2</td>\n",
       "      <td>4.9</td>\n",
       "      <td>3.0</td>\n",
       "      <td>1.4</td>\n",
       "      <td>0.2</td>\n",
       "      <td>Iris-setosa</td>\n",
       "    </tr>\n",
       "    <tr>\n",
       "      <th>2</th>\n",
       "      <td>3</td>\n",
       "      <td>4.7</td>\n",
       "      <td>3.2</td>\n",
       "      <td>1.3</td>\n",
       "      <td>0.2</td>\n",
       "      <td>Iris-setosa</td>\n",
       "    </tr>\n",
       "    <tr>\n",
       "      <th>3</th>\n",
       "      <td>4</td>\n",
       "      <td>4.6</td>\n",
       "      <td>3.1</td>\n",
       "      <td>1.5</td>\n",
       "      <td>0.2</td>\n",
       "      <td>Iris-setosa</td>\n",
       "    </tr>\n",
       "    <tr>\n",
       "      <th>4</th>\n",
       "      <td>5</td>\n",
       "      <td>5.0</td>\n",
       "      <td>3.6</td>\n",
       "      <td>1.4</td>\n",
       "      <td>0.2</td>\n",
       "      <td>Iris-setosa</td>\n",
       "    </tr>\n",
       "    <tr>\n",
       "      <th>...</th>\n",
       "      <td>...</td>\n",
       "      <td>...</td>\n",
       "      <td>...</td>\n",
       "      <td>...</td>\n",
       "      <td>...</td>\n",
       "      <td>...</td>\n",
       "    </tr>\n",
       "    <tr>\n",
       "      <th>145</th>\n",
       "      <td>146</td>\n",
       "      <td>6.7</td>\n",
       "      <td>3.0</td>\n",
       "      <td>5.2</td>\n",
       "      <td>2.3</td>\n",
       "      <td>Iris-virginica</td>\n",
       "    </tr>\n",
       "    <tr>\n",
       "      <th>146</th>\n",
       "      <td>147</td>\n",
       "      <td>6.3</td>\n",
       "      <td>2.5</td>\n",
       "      <td>5.0</td>\n",
       "      <td>1.9</td>\n",
       "      <td>Iris-virginica</td>\n",
       "    </tr>\n",
       "    <tr>\n",
       "      <th>147</th>\n",
       "      <td>148</td>\n",
       "      <td>6.5</td>\n",
       "      <td>3.0</td>\n",
       "      <td>5.2</td>\n",
       "      <td>2.0</td>\n",
       "      <td>Iris-virginica</td>\n",
       "    </tr>\n",
       "    <tr>\n",
       "      <th>148</th>\n",
       "      <td>149</td>\n",
       "      <td>6.2</td>\n",
       "      <td>3.4</td>\n",
       "      <td>5.4</td>\n",
       "      <td>2.3</td>\n",
       "      <td>Iris-virginica</td>\n",
       "    </tr>\n",
       "    <tr>\n",
       "      <th>149</th>\n",
       "      <td>150</td>\n",
       "      <td>5.9</td>\n",
       "      <td>3.0</td>\n",
       "      <td>5.1</td>\n",
       "      <td>1.8</td>\n",
       "      <td>Iris-virginica</td>\n",
       "    </tr>\n",
       "  </tbody>\n",
       "</table>\n",
       "<p>150 rows × 6 columns</p>\n",
       "</div>"
      ],
      "text/plain": [
       "      Id  SepalLengthCm  SepalWidthCm  PetalLengthCm  PetalWidthCm  \\\n",
       "0      1            5.1           3.5            1.4           0.2   \n",
       "1      2            4.9           3.0            1.4           0.2   \n",
       "2      3            4.7           3.2            1.3           0.2   \n",
       "3      4            4.6           3.1            1.5           0.2   \n",
       "4      5            5.0           3.6            1.4           0.2   \n",
       "..   ...            ...           ...            ...           ...   \n",
       "145  146            6.7           3.0            5.2           2.3   \n",
       "146  147            6.3           2.5            5.0           1.9   \n",
       "147  148            6.5           3.0            5.2           2.0   \n",
       "148  149            6.2           3.4            5.4           2.3   \n",
       "149  150            5.9           3.0            5.1           1.8   \n",
       "\n",
       "            Species  \n",
       "0       Iris-setosa  \n",
       "1       Iris-setosa  \n",
       "2       Iris-setosa  \n",
       "3       Iris-setosa  \n",
       "4       Iris-setosa  \n",
       "..              ...  \n",
       "145  Iris-virginica  \n",
       "146  Iris-virginica  \n",
       "147  Iris-virginica  \n",
       "148  Iris-virginica  \n",
       "149  Iris-virginica  \n",
       "\n",
       "[150 rows x 6 columns]"
      ]
     },
     "execution_count": 2,
     "metadata": {},
     "output_type": "execute_result"
    }
   ],
   "source": [
    "df=pd.read_csv('Iris.csv')        \n",
    "df"
   ]
  },
  {
   "cell_type": "code",
   "execution_count": 3,
   "id": "9d21113d",
   "metadata": {},
   "outputs": [
    {
     "data": {
      "text/plain": [
       "(150, 6)"
      ]
     },
     "execution_count": 3,
     "metadata": {},
     "output_type": "execute_result"
    }
   ],
   "source": [
    "df.shape"
   ]
  },
  {
   "cell_type": "code",
   "execution_count": 4,
   "id": "87d8220e",
   "metadata": {},
   "outputs": [
    {
     "name": "stdout",
     "output_type": "stream",
     "text": [
      "<class 'pandas.core.frame.DataFrame'>\n",
      "RangeIndex: 150 entries, 0 to 149\n",
      "Data columns (total 6 columns):\n",
      " #   Column         Non-Null Count  Dtype  \n",
      "---  ------         --------------  -----  \n",
      " 0   Id             150 non-null    int64  \n",
      " 1   SepalLengthCm  150 non-null    float64\n",
      " 2   SepalWidthCm   150 non-null    float64\n",
      " 3   PetalLengthCm  150 non-null    float64\n",
      " 4   PetalWidthCm   150 non-null    float64\n",
      " 5   Species        150 non-null    object \n",
      "dtypes: float64(4), int64(1), object(1)\n",
      "memory usage: 7.2+ KB\n"
     ]
    }
   ],
   "source": [
    "df.info()"
   ]
  },
  {
   "cell_type": "code",
   "execution_count": 5,
   "id": "bac878c9",
   "metadata": {},
   "outputs": [
    {
     "data": {
      "text/plain": [
       "Index(['Id', 'SepalLengthCm', 'SepalWidthCm', 'PetalLengthCm', 'PetalWidthCm',\n",
       "       'Species'],\n",
       "      dtype='object')"
      ]
     },
     "execution_count": 5,
     "metadata": {},
     "output_type": "execute_result"
    }
   ],
   "source": [
    "df.columns"
   ]
  },
  {
   "cell_type": "code",
   "execution_count": 6,
   "id": "729aedd4",
   "metadata": {},
   "outputs": [
    {
     "data": {
      "text/plain": [
       "[RangeIndex(start=0, stop=150, step=1),\n",
       " Index(['Id', 'SepalLengthCm', 'SepalWidthCm', 'PetalLengthCm', 'PetalWidthCm',\n",
       "        'Species'],\n",
       "       dtype='object')]"
      ]
     },
     "execution_count": 6,
     "metadata": {},
     "output_type": "execute_result"
    }
   ],
   "source": [
    "df.axes"
   ]
  },
  {
   "cell_type": "code",
   "execution_count": 7,
   "id": "ac158f38",
   "metadata": {},
   "outputs": [
    {
     "data": {
      "text/plain": [
       "Id               0\n",
       "SepalLengthCm    0\n",
       "SepalWidthCm     0\n",
       "PetalLengthCm    0\n",
       "PetalWidthCm     0\n",
       "Species          0\n",
       "dtype: int64"
      ]
     },
     "execution_count": 7,
     "metadata": {},
     "output_type": "execute_result"
    }
   ],
   "source": [
    "df.isna().sum()"
   ]
  },
  {
   "cell_type": "code",
   "execution_count": 8,
   "id": "99c60187",
   "metadata": {},
   "outputs": [
    {
     "data": {
      "text/plain": [
       "Id               0\n",
       "SepalLengthCm    0\n",
       "SepalWidthCm     0\n",
       "PetalLengthCm    0\n",
       "PetalWidthCm     0\n",
       "Species          0\n",
       "dtype: int64"
      ]
     },
     "execution_count": 8,
     "metadata": {},
     "output_type": "execute_result"
    }
   ],
   "source": [
    "df.isnull().sum()"
   ]
  },
  {
   "cell_type": "code",
   "execution_count": 9,
   "id": "5c35c936",
   "metadata": {},
   "outputs": [
    {
     "data": {
      "text/plain": [
       "array(['Iris-setosa', 'Iris-versicolor', 'Iris-virginica'], dtype=object)"
      ]
     },
     "execution_count": 9,
     "metadata": {},
     "output_type": "execute_result"
    }
   ],
   "source": [
    "df['Species'].unique()"
   ]
  },
  {
   "cell_type": "code",
   "execution_count": 10,
   "id": "f248a3ee",
   "metadata": {},
   "outputs": [
    {
     "data": {
      "text/plain": [
       "Iris-setosa        50\n",
       "Iris-versicolor    50\n",
       "Iris-virginica     50\n",
       "Name: Species, dtype: int64"
      ]
     },
     "execution_count": 10,
     "metadata": {},
     "output_type": "execute_result"
    }
   ],
   "source": [
    "df['Species'].value_counts()"
   ]
  },
  {
   "cell_type": "markdown",
   "id": "ae56d85a",
   "metadata": {},
   "source": [
    "# 3.Exploratory Data Analysis(EDA):"
   ]
  },
  {
   "cell_type": "raw",
   "id": "3a39944c",
   "metadata": {},
   "source": [
    "1.Getting insights about the dataset.\n",
    "2.It clear the picture of the features(Attribtes) / input and relation betwee them.\n",
    "3.Removing not required / non relevant Attribtes.\n",
    "4.Removing the arttribtes which has 70-80 % same data in it.\n",
    "5.If two attribtes are having almost same data then one of them attribute is removed/droped.\n",
    "6.Converting string data type attributes into int or float data type\n",
    "6.Handling missing values.\n",
    "7.Filling the missing values by mean,median or by mode.\n",
    "  Standard:\n",
    "            For coninuous data >> we use mean or median\n",
    "            For Discrete  data >> we use mode       \n",
    "8.If a attribute having more (large) amount of missing values then we can drop that attribute.\n",
    "9.Data visualization\n",
    "10.Handling outliers\n",
    "   removing outliers"
   ]
  },
  {
   "cell_type": "code",
   "execution_count": 11,
   "id": "5962e038",
   "metadata": {},
   "outputs": [
    {
     "data": {
      "text/plain": [
       "array(['Iris-setosa', 'Iris-versicolor', 'Iris-virginica'], dtype=object)"
      ]
     },
     "execution_count": 11,
     "metadata": {},
     "output_type": "execute_result"
    }
   ],
   "source": [
    "df['Species'].unique()"
   ]
  },
  {
   "cell_type": "code",
   "execution_count": 12,
   "id": "cb462ad5",
   "metadata": {},
   "outputs": [],
   "source": [
    "df['Species'].replace({'Iris-setosa':0,'Iris-versicolor':1, 'Iris-virginica':2},inplace=True)"
   ]
  },
  {
   "cell_type": "raw",
   "id": "fa526128",
   "metadata": {},
   "source": [
    "#same we can change data type or can convert attributes object values to int values by using \n",
    "# LabelEncoder and OneHotEncoder which will convert by it self.\n",
    "\n",
    "#  LabelEncoder >>>\n",
    "LabelEn=LabelEncoder()          # fisrt initialize the LabelEncoder in LabelEn object\n",
    "LabelEn.fit_transform(df['Specise'])  # syntax for label encoder\n",
    "\n",
    "#OneHotEncoder >>>\n",
    "pd.get_dummies(df,columns=[species])  # syntax for OneHot\n",
    "\n",
    "here we can pass prefix='Name/Object' that goes as the column name\n",
    "also can pass drop_fist=True so newly created columns fisrt column gets droped."
   ]
  },
  {
   "cell_type": "code",
   "execution_count": 13,
   "id": "3a597864",
   "metadata": {},
   "outputs": [
    {
     "name": "stdout",
     "output_type": "stream",
     "text": [
      "<class 'pandas.core.frame.DataFrame'>\n",
      "RangeIndex: 150 entries, 0 to 149\n",
      "Data columns (total 6 columns):\n",
      " #   Column         Non-Null Count  Dtype  \n",
      "---  ------         --------------  -----  \n",
      " 0   Id             150 non-null    int64  \n",
      " 1   SepalLengthCm  150 non-null    float64\n",
      " 2   SepalWidthCm   150 non-null    float64\n",
      " 3   PetalLengthCm  150 non-null    float64\n",
      " 4   PetalWidthCm   150 non-null    float64\n",
      " 5   Species        150 non-null    int64  \n",
      "dtypes: float64(4), int64(2)\n",
      "memory usage: 7.2 KB\n"
     ]
    }
   ],
   "source": [
    "df.info()"
   ]
  },
  {
   "cell_type": "code",
   "execution_count": 14,
   "id": "69a04b23",
   "metadata": {},
   "outputs": [
    {
     "data": {
      "text/plain": [
       "<AxesSubplot:xlabel='SepalWidthCm', ylabel='SepalLengthCm'>"
      ]
     },
     "execution_count": 14,
     "metadata": {},
     "output_type": "execute_result"
    },
    {
     "data": {
      "image/png": "[encoded data removed]",
      "text/plain": [
       "<Figure size 432x288 with 1 Axes>"
      ]
     },
     "metadata": {
      "needs_background": "light"
     },
     "output_type": "display_data"
    }
   ],
   "source": [
    "df.plot(x='SepalWidthCm',y='SepalLengthCm',kind='scatter')    # data point graph of two attributes"
   ]
  },
  {
   "cell_type": "code",
   "execution_count": 15,
   "id": "46f3552f",
   "metadata": {},
   "outputs": [
    {
     "data": {
      "text/plain": [
       "<seaborn.axisgrid.PairGrid at 0x1ebfe0ad790>"
      ]
     },
     "execution_count": 15,
     "metadata": {},
     "output_type": "execute_result"
    },
    {
     "data": {
      "text/plain": [
       "<Figure size 360x360 with 0 Axes>"
      ]
     },
     "metadata": {},
     "output_type": "display_data"
    },
    {
     "data": {
      "image/png": "[encoded data removed]",
      "text/plain": [
       "<Figure size 1080x1080 with 42 Axes>"
      ]
     },
     "metadata": {
      "needs_background": "light"
     },
     "output_type": "display_data"
    }
   ],
   "source": [
    "plt.figure(figsize=(5,5))             # fig size\n",
    "sns.pairplot(df,kind='scatter')       # pair plot(data points graph) between each atrribute"
   ]
  },
  {
   "cell_type": "code",
   "execution_count": 16,
   "id": "110748f5",
   "metadata": {},
   "outputs": [
    {
     "data": {
      "text/html": [
       "<div>\n",
       "<style scoped>\n",
       "    .dataframe tbody tr th:only-of-type {\n",
       "        vertical-align: middle;\n",
       "    }\n",
       "\n",
       "    .dataframe tbody tr th {\n",
       "        vertical-align: top;\n",
       "    }\n",
       "\n",
       "    .dataframe thead th {\n",
       "        text-align: right;\n",
       "    }\n",
       "</style>\n",
       "<table border=\"1\" class=\"dataframe\">\n",
       "  <thead>\n",
       "    <tr style=\"text-align: right;\">\n",
       "      <th></th>\n",
       "      <th>Id</th>\n",
       "      <th>SepalLengthCm</th>\n",
       "      <th>SepalWidthCm</th>\n",
       "      <th>PetalLengthCm</th>\n",
       "      <th>PetalWidthCm</th>\n",
       "      <th>Species</th>\n",
       "    </tr>\n",
       "  </thead>\n",
       "  <tbody>\n",
       "    <tr>\n",
       "      <th>Id</th>\n",
       "      <td>1.000000</td>\n",
       "      <td>0.716676</td>\n",
       "      <td>-0.397729</td>\n",
       "      <td>0.882747</td>\n",
       "      <td>0.899759</td>\n",
       "      <td>0.942830</td>\n",
       "    </tr>\n",
       "    <tr>\n",
       "      <th>SepalLengthCm</th>\n",
       "      <td>0.716676</td>\n",
       "      <td>1.000000</td>\n",
       "      <td>-0.109369</td>\n",
       "      <td>0.871754</td>\n",
       "      <td>0.817954</td>\n",
       "      <td>0.782561</td>\n",
       "    </tr>\n",
       "    <tr>\n",
       "      <th>SepalWidthCm</th>\n",
       "      <td>-0.397729</td>\n",
       "      <td>-0.109369</td>\n",
       "      <td>1.000000</td>\n",
       "      <td>-0.420516</td>\n",
       "      <td>-0.356544</td>\n",
       "      <td>-0.419446</td>\n",
       "    </tr>\n",
       "    <tr>\n",
       "      <th>PetalLengthCm</th>\n",
       "      <td>0.882747</td>\n",
       "      <td>0.871754</td>\n",
       "      <td>-0.420516</td>\n",
       "      <td>1.000000</td>\n",
       "      <td>0.962757</td>\n",
       "      <td>0.949043</td>\n",
       "    </tr>\n",
       "    <tr>\n",
       "      <th>PetalWidthCm</th>\n",
       "      <td>0.899759</td>\n",
       "      <td>0.817954</td>\n",
       "      <td>-0.356544</td>\n",
       "      <td>0.962757</td>\n",
       "      <td>1.000000</td>\n",
       "      <td>0.956464</td>\n",
       "    </tr>\n",
       "    <tr>\n",
       "      <th>Species</th>\n",
       "      <td>0.942830</td>\n",
       "      <td>0.782561</td>\n",
       "      <td>-0.419446</td>\n",
       "      <td>0.949043</td>\n",
       "      <td>0.956464</td>\n",
       "      <td>1.000000</td>\n",
       "    </tr>\n",
       "  </tbody>\n",
       "</table>\n",
       "</div>"
      ],
      "text/plain": [
       "                     Id  SepalLengthCm  SepalWidthCm  PetalLengthCm  \\\n",
       "Id             1.000000       0.716676     -0.397729       0.882747   \n",
       "SepalLengthCm  0.716676       1.000000     -0.109369       0.871754   \n",
       "SepalWidthCm  -0.397729      -0.109369      1.000000      -0.420516   \n",
       "PetalLengthCm  0.882747       0.871754     -0.420516       1.000000   \n",
       "PetalWidthCm   0.899759       0.817954     -0.356544       0.962757   \n",
       "Species        0.942830       0.782561     -0.419446       0.949043   \n",
       "\n",
       "               PetalWidthCm   Species  \n",
       "Id                 0.899759  0.942830  \n",
       "SepalLengthCm      0.817954  0.782561  \n",
       "SepalWidthCm      -0.356544 -0.419446  \n",
       "PetalLengthCm      0.962757  0.949043  \n",
       "PetalWidthCm       1.000000  0.956464  \n",
       "Species            0.956464  1.000000  "
      ]
     },
     "execution_count": 16,
     "metadata": {},
     "output_type": "execute_result"
    }
   ],
   "source": [
    "df.corr()    # correlation between ecah attribute"
   ]
  },
  {
   "cell_type": "code",
   "execution_count": 17,
   "id": "e2ae3be3",
   "metadata": {},
   "outputs": [
    {
     "data": {
      "text/plain": [
       "<AxesSubplot:>"
      ]
     },
     "execution_count": 17,
     "metadata": {},
     "output_type": "execute_result"
    },
    {
     "data": {
      "image/png": "[encoded data removed]",
      "text/plain": [
       "<Figure size 432x288 with 2 Axes>"
      ]
     },
     "metadata": {
      "needs_background": "light"
     },
     "output_type": "display_data"
    }
   ],
   "source": [
    "sns.heatmap(df.corr(),annot=True) # annot=True to show R correlation values in box"
   ]
  },
  {
   "cell_type": "code",
   "execution_count": 18,
   "id": "2fe029fd",
   "metadata": {},
   "outputs": [
    {
     "data": {
      "text/plain": [
       "<AxesSubplot:>"
      ]
     },
     "execution_count": 18,
     "metadata": {},
     "output_type": "execute_result"
    },
    {
     "data": {
      "image/png": "[encoded data removed]",
      "text/plain": [
       "<Figure size 432x288 with 2 Axes>"
      ]
     },
     "metadata": {
      "needs_background": "light"
     },
     "output_type": "display_data"
    }
   ],
   "source": [
    "sns.heatmap(df.corr(),annot=True,cmap='YlGnBu')    # cmap='YlGnBu'  to change the graph box colurs"
   ]
  },
  {
   "cell_type": "code",
   "execution_count": 19,
   "id": "fd21ce65",
   "metadata": {},
   "outputs": [
    {
     "name": "stdout",
     "output_type": "stream",
     "text": [
      "<class 'pandas.core.frame.DataFrame'>\n",
      "RangeIndex: 150 entries, 0 to 149\n",
      "Data columns (total 6 columns):\n",
      " #   Column         Non-Null Count  Dtype  \n",
      "---  ------         --------------  -----  \n",
      " 0   Id             150 non-null    int64  \n",
      " 1   SepalLengthCm  150 non-null    float64\n",
      " 2   SepalWidthCm   150 non-null    float64\n",
      " 3   PetalLengthCm  150 non-null    float64\n",
      " 4   PetalWidthCm   150 non-null    float64\n",
      " 5   Species        150 non-null    int64  \n",
      "dtypes: float64(4), int64(2)\n",
      "memory usage: 7.2 KB\n"
     ]
    }
   ],
   "source": [
    "df.info()"
   ]
  },
  {
   "cell_type": "markdown",
   "id": "5485f4ae",
   "metadata": {},
   "source": [
    "# 4.Feature Engineering:"
   ]
  },
  {
   "cell_type": "raw",
   "id": "63cd1a34",
   "metadata": {},
   "source": [
    "1.Scaling\n",
    "2.Binning\n",
    "3.Outliers\n",
    "4.Missing values."
   ]
  },
  {
   "cell_type": "markdown",
   "id": "dfdaaf25",
   "metadata": {},
   "source": [
    "# 5.Feature Selection:"
   ]
  },
  {
   "cell_type": "raw",
   "id": "7da01fa7",
   "metadata": {},
   "source": [
    "Sorting or selection of features which are relevant for problem solving.\n",
    "Which are required for problem solving.\n",
    "Will drop non relevant Fetures(attribues).\n"
   ]
  },
  {
   "cell_type": "code",
   "execution_count": 20,
   "id": "fd5b9489",
   "metadata": {},
   "outputs": [],
   "source": [
    "df.drop(['Id'],axis=1,inplace=True)"
   ]
  },
  {
   "cell_type": "code",
   "execution_count": 21,
   "id": "d7cbaea0",
   "metadata": {},
   "outputs": [
    {
     "name": "stdout",
     "output_type": "stream",
     "text": [
      "<class 'pandas.core.frame.DataFrame'>\n",
      "RangeIndex: 150 entries, 0 to 149\n",
      "Data columns (total 5 columns):\n",
      " #   Column         Non-Null Count  Dtype  \n",
      "---  ------         --------------  -----  \n",
      " 0   SepalLengthCm  150 non-null    float64\n",
      " 1   SepalWidthCm   150 non-null    float64\n",
      " 2   PetalLengthCm  150 non-null    float64\n",
      " 3   PetalWidthCm   150 non-null    float64\n",
      " 4   Species        150 non-null    int64  \n",
      "dtypes: float64(4), int64(1)\n",
      "memory usage: 6.0 KB\n"
     ]
    }
   ],
   "source": [
    "df.info()"
   ]
  },
  {
   "cell_type": "markdown",
   "id": "f6f12cb6",
   "metadata": {},
   "source": [
    "# 6.Model Building/Training:"
   ]
  },
  {
   "cell_type": "markdown",
   "id": "f5da68c4",
   "metadata": {},
   "source": [
    "# 6.1 Splitting Dataset:"
   ]
  },
  {
   "cell_type": "code",
   "execution_count": 22,
   "id": "47e87e9a",
   "metadata": {},
   "outputs": [],
   "source": [
    "x=df.drop(['SepalLengthCm'],axis=1)     # here we splitted our data in x input/Independent and y target variable\n",
    "y=df['SepalLengthCm']"
   ]
  },
  {
   "cell_type": "code",
   "execution_count": 23,
   "id": "41323dbf",
   "metadata": {},
   "outputs": [],
   "source": [
    "# spliting data in tarin and test dataset"
   ]
  },
  {
   "cell_type": "code",
   "execution_count": 24,
   "id": "7231cad2",
   "metadata": {},
   "outputs": [],
   "source": [
    "x_train,x_test,y_train,y_test=train_test_split(x,y,test_size=0.2,random_state=1)"
   ]
  },
  {
   "cell_type": "code",
   "execution_count": 25,
   "id": "d70924ae",
   "metadata": {},
   "outputs": [
    {
     "data": {
      "text/plain": [
       "(120, 4)"
      ]
     },
     "execution_count": 25,
     "metadata": {},
     "output_type": "execute_result"
    }
   ],
   "source": [
    "x_train.shape"
   ]
  },
  {
   "cell_type": "code",
   "execution_count": 26,
   "id": "4321a8c4",
   "metadata": {},
   "outputs": [
    {
     "data": {
      "text/plain": [
       "(30, 4)"
      ]
     },
     "execution_count": 26,
     "metadata": {},
     "output_type": "execute_result"
    }
   ],
   "source": [
    "x_test.shape"
   ]
  },
  {
   "cell_type": "code",
   "execution_count": 27,
   "id": "90a5632f",
   "metadata": {},
   "outputs": [
    {
     "data": {
      "text/plain": [
       "(120,)"
      ]
     },
     "execution_count": 27,
     "metadata": {},
     "output_type": "execute_result"
    }
   ],
   "source": [
    "y_train.shape"
   ]
  },
  {
   "cell_type": "code",
   "execution_count": 28,
   "id": "734424f5",
   "metadata": {},
   "outputs": [
    {
     "data": {
      "text/plain": [
       "(30,)"
      ]
     },
     "execution_count": 28,
     "metadata": {},
     "output_type": "execute_result"
    }
   ],
   "source": [
    "y_test.shape"
   ]
  },
  {
   "cell_type": "markdown",
   "id": "09a0a1cb",
   "metadata": {},
   "source": [
    "# 6.2  Instantiatin Linear Regression (Required ML model) Model:"
   ]
  },
  {
   "cell_type": "code",
   "execution_count": 29,
   "id": "c97e7864",
   "metadata": {},
   "outputs": [
    {
     "data": {
      "text/plain": [
       "LinearRegression()"
      ]
     },
     "execution_count": 29,
     "metadata": {},
     "output_type": "execute_result"
    }
   ],
   "source": [
    "model=LinearRegression()   # initializing LinearRegressin Model to model object\n",
    "model"
   ]
  },
  {
   "cell_type": "markdown",
   "id": "99971604",
   "metadata": {},
   "source": [
    "# 6.3 Train Model:"
   ]
  },
  {
   "cell_type": "code",
   "execution_count": 30,
   "id": "830381e0",
   "metadata": {},
   "outputs": [
    {
     "data": {
      "text/plain": [
       "LinearRegression()"
      ]
     },
     "execution_count": 30,
     "metadata": {},
     "output_type": "execute_result"
    }
   ],
   "source": [
    "model.fit(x_train,y_train)           # fit model on train data"
   ]
  },
  {
   "cell_type": "markdown",
   "id": "36eb2c5f",
   "metadata": {},
   "source": [
    "# 7. Model Evaluation:"
   ]
  },
  {
   "cell_type": "markdown",
   "id": "bac81105",
   "metadata": {},
   "source": [
    "# 7.1 Prediction:"
   ]
  },
  {
   "cell_type": "code",
   "execution_count": 31,
   "id": "ae2f1936",
   "metadata": {},
   "outputs": [
    {
     "data": {
      "text/plain": [
       "array([5.09192877, 4.93149358, 6.25720518, 5.02467945, 7.72619147,\n",
       "       6.58803407, 6.08751945, 5.47306316, 4.97011483, 6.65064945,\n",
       "       5.96358461, 5.36185069, 6.79865775, 6.40915979, 6.23704035,\n",
       "       4.7172364 , 5.78471033, 6.2944135 , 4.90639933, 4.63294359,\n",
       "       6.12188157, 6.2944135 , 6.62170856, 4.84227135, 7.13895033,\n",
       "       5.93666494, 5.37526068, 5.18297641, 6.48950629, 5.84732571])"
      ]
     },
     "execution_count": 31,
     "metadata": {},
     "output_type": "execute_result"
    }
   ],
   "source": [
    "y_pred=model.predict(x_test)\n",
    "y_pred"
   ]
  },
  {
   "cell_type": "code",
   "execution_count": 32,
   "id": "99938f69",
   "metadata": {},
   "outputs": [
    {
     "data": {
      "text/plain": [
       "14     5.8\n",
       "98     5.1\n",
       "75     6.6\n",
       "16     5.4\n",
       "131    7.9\n",
       "56     6.3\n",
       "141    6.9\n",
       "44     5.1\n",
       "29     4.7\n",
       "120    6.9\n",
       "94     5.6\n",
       "5      5.4\n",
       "102    7.1\n",
       "51     6.4\n",
       "78     6.0\n",
       "42     4.4\n",
       "92     5.8\n",
       "66     5.6\n",
       "31     5.4\n",
       "35     5.0\n",
       "90     5.5\n",
       "84     5.4\n",
       "77     6.7\n",
       "40     5.0\n",
       "125    7.2\n",
       "99     5.7\n",
       "33     5.5\n",
       "19     5.1\n",
       "73     6.1\n",
       "146    6.3\n",
       "Name: SepalLengthCm, dtype: float64"
      ]
     },
     "execution_count": 32,
     "metadata": {},
     "output_type": "execute_result"
    }
   ],
   "source": [
    "y_test"
   ]
  },
  {
   "cell_type": "code",
   "execution_count": 33,
   "id": "53ddb307",
   "metadata": {},
   "outputs": [
    {
     "data": {
      "text/plain": [
       "91     6.1\n",
       "135    7.7\n",
       "69     5.6\n",
       "128    6.4\n",
       "114    5.8\n",
       "      ... \n",
       "133    6.3\n",
       "137    6.4\n",
       "72     6.3\n",
       "140    6.7\n",
       "37     4.9\n",
       "Name: SepalLengthCm, Length: 120, dtype: float64"
      ]
     },
     "execution_count": 33,
     "metadata": {},
     "output_type": "execute_result"
    }
   ],
   "source": [
    "y_train"
   ]
  },
  {
   "cell_type": "markdown",
   "id": "76c6ad55",
   "metadata": {},
   "source": [
    "# 7.2 Calculate Evaluation parameter:"
   ]
  },
  {
   "cell_type": "markdown",
   "id": "532fe951",
   "metadata": {},
   "source": [
    "# 1.Mean Squared Error(MSE):"
   ]
  },
  {
   "cell_type": "code",
   "execution_count": 34,
   "id": "17b91031",
   "metadata": {},
   "outputs": [
    {
     "data": {
      "text/plain": [
       "0.15781531046414615"
      ]
     },
     "execution_count": 34,
     "metadata": {},
     "output_type": "execute_result"
    }
   ],
   "source": [
    "mse=mean_squared_error(y_test,y_pred)\n",
    "mse"
   ]
  },
  {
   "cell_type": "code",
   "execution_count": 35,
   "id": "0ff4f383",
   "metadata": {},
   "outputs": [
    {
     "data": {
      "text/plain": [
       "0.15781531046414615"
      ]
     },
     "execution_count": 35,
     "metadata": {},
     "output_type": "execute_result"
    }
   ],
   "source": [
    "mse=mean_squared_error(y_pred,y_test)\n",
    "mse"
   ]
  },
  {
   "cell_type": "markdown",
   "id": "265a4cec",
   "metadata": {},
   "source": [
    "# 2. Root Mean Squared Error(RMSE):"
   ]
  },
  {
   "cell_type": "code",
   "execution_count": 36,
   "id": "c6e0b86a",
   "metadata": {},
   "outputs": [
    {
     "data": {
      "text/plain": [
       "0.39725975188048707"
      ]
     },
     "execution_count": 36,
     "metadata": {},
     "output_type": "execute_result"
    }
   ],
   "source": [
    "rmse=np.sqrt(mse)\n",
    "rmse"
   ]
  },
  {
   "cell_type": "markdown",
   "id": "c034b1fe",
   "metadata": {},
   "source": [
    "# 3. r2_score:"
   ]
  },
  {
   "cell_type": "code",
   "execution_count": 37,
   "id": "83f7cb36",
   "metadata": {},
   "outputs": [
    {
     "data": {
      "text/plain": [
       "0.7588110183264591"
      ]
     },
     "execution_count": 37,
     "metadata": {},
     "output_type": "execute_result"
    }
   ],
   "source": [
    "r2_score=r2_score(y_test,y_pred)\n",
    "r2_score"
   ]
  },
  {
   "cell_type": "markdown",
   "id": "816a4597",
   "metadata": {},
   "source": [
    "# 4. Mean Absolute Error(MAE):"
   ]
  },
  {
   "cell_type": "code",
   "execution_count": 38,
   "id": "672146a6",
   "metadata": {},
   "outputs": [
    {
     "data": {
      "text/plain": [
       "0.32327812415709084"
      ]
     },
     "execution_count": 38,
     "metadata": {},
     "output_type": "execute_result"
    }
   ],
   "source": [
    "MAE=mean_absolute_error(y_pred,y_test)\n",
    "MAE"
   ]
  },
  {
   "cell_type": "markdown",
   "id": "0deb1780",
   "metadata": {},
   "source": [
    "# Prediction for Training Dataset:"
   ]
  },
  {
   "cell_type": "code",
   "execution_count": 39,
   "id": "ed3a363b",
   "metadata": {},
   "outputs": [
    {
     "data": {
      "text/plain": [
       "array([6.4257908 , 6.87307439, 5.69012886, 6.43103303, 5.86831551,\n",
       "       5.17268776, 5.5655064 , 4.9162755 , 6.26396001, 6.56875268,\n",
       "       6.46148652, 4.92656416, 5.86354423, 6.62965965, 6.41550214,\n",
       "       7.31792428, 5.35156203, 5.0310218 , 4.63969842, 5.66362169,\n",
       "       5.00056831, 4.88935584, 7.88490092, 6.43456686, 7.21970931,\n",
       "       6.38394854, 5.89794403, 6.4768216 , 7.40533842, 6.18278854,\n",
       "       5.08486112, 5.80024122, 5.92486369, 4.7338674 , 4.7172364 ,\n",
       "       6.66728045, 4.86919101, 6.09698313, 6.28614607, 6.31457832,\n",
       "       6.27383618, 6.61385362, 6.01269032, 5.31435371, 5.64938672,\n",
       "       6.16262371, 6.60273999, 5.1167102 , 6.86673204, 5.68025269,\n",
       "       5.17268776, 4.87553336, 5.44926484, 6.80219158, 4.6024901 ,\n",
       "       6.58096642, 6.21495044, 6.26556875, 5.05794146, 4.97052731,\n",
       "       6.02054527, 4.87553336, 6.94666606, 6.16262371, 7.38870742,\n",
       "       6.11443911, 5.90267763, 6.51251732, 7.1231443 , 5.57257405,\n",
       "       5.48013081, 5.75779067, 4.15379358, 5.54846291, 6.68895788,\n",
       "       4.99069214, 6.47963012, 4.95389631, 5.33773955, 6.63401845,\n",
       "       5.88806786, 6.81923507, 4.85890236, 5.07851877, 6.52078475,\n",
       "       4.82844887, 6.04636482, 4.91274168, 6.25569258, 5.52003065,\n",
       "       4.80152921, 6.31347821, 4.48098898, 6.05141124, 4.62940977,\n",
       "       5.51125459, 5.11317638, 4.97364865, 4.68678291, 5.17408335,\n",
       "       4.69385056, 6.04153507, 6.45271046, 5.00056831, 6.52037226,\n",
       "       6.0783309 , 5.83542832, 6.6248299 , 6.04636482, 5.16915393,\n",
       "       4.85536853, 6.64587817, 5.85237214, 6.9497874 , 5.45741526,\n",
       "       6.29207593, 6.66011314, 6.344719  , 6.461899  , 4.87553336])"
      ]
     },
     "execution_count": 39,
     "metadata": {},
     "output_type": "execute_result"
    }
   ],
   "source": [
    "y_pred_train=model.predict(x_train)\n",
    "y_pred_train"
   ]
  },
  {
   "cell_type": "code",
   "execution_count": 46,
   "id": "7480bd19",
   "metadata": {},
   "outputs": [
    {
     "data": {
      "text/plain": [
       "91     6.1\n",
       "135    7.7\n",
       "69     5.6\n",
       "128    6.4\n",
       "114    5.8\n",
       "      ... \n",
       "133    6.3\n",
       "137    6.4\n",
       "72     6.3\n",
       "140    6.7\n",
       "37     4.9\n",
       "Name: SepalLengthCm, Length: 120, dtype: float64"
      ]
     },
     "execution_count": 46,
     "metadata": {},
     "output_type": "execute_result"
    }
   ],
   "source": [
    "y_train"
   ]
  },
  {
   "cell_type": "markdown",
   "id": "c0d56bce",
   "metadata": {},
   "source": [
    "# Residual:"
   ]
  },
  {
   "cell_type": "raw",
   "id": "524c82b7",
   "metadata": {},
   "source": [
    "It is nothing but the difference between actual value and predicted value."
   ]
  },
  {
   "cell_type": "code",
   "execution_count": 47,
   "id": "91284e68",
   "metadata": {},
   "outputs": [],
   "source": [
    "residuals=y_test-y_pred"
   ]
  },
  {
   "cell_type": "code",
   "execution_count": 48,
   "id": "ea3bd13f",
   "metadata": {},
   "outputs": [
    {
     "data": {
      "text/plain": [
       "14     0.708071\n",
       "98     0.168506\n",
       "75     0.342795\n",
       "16     0.375321\n",
       "131    0.173809\n",
       "56    -0.288034\n",
       "141    0.812481\n",
       "44    -0.373063\n",
       "29    -0.270115\n",
       "120    0.249351\n",
       "94    -0.363585\n",
       "5      0.038149\n",
       "102    0.301342\n",
       "51    -0.009160\n",
       "78    -0.237040\n",
       "42    -0.317236\n",
       "92     0.015290\n",
       "66    -0.694413\n",
       "31     0.493601\n",
       "35     0.367056\n",
       "90    -0.621882\n",
       "84    -0.894413\n",
       "77     0.078291\n",
       "40     0.157729\n",
       "125    0.061050\n",
       "99    -0.236665\n",
       "33     0.124739\n",
       "19    -0.082976\n",
       "73    -0.389506\n",
       "146    0.452674\n",
       "Name: SepalLengthCm, dtype: float64"
      ]
     },
     "execution_count": 48,
     "metadata": {},
     "output_type": "execute_result"
    }
   ],
   "source": [
    "residuals"
   ]
  },
  {
   "cell_type": "code",
   "execution_count": 49,
   "id": "b4e0ea04",
   "metadata": {},
   "outputs": [
    {
     "data": {
      "text/html": [
       "<div>\n",
       "<style scoped>\n",
       "    .dataframe tbody tr th:only-of-type {\n",
       "        vertical-align: middle;\n",
       "    }\n",
       "\n",
       "    .dataframe tbody tr th {\n",
       "        vertical-align: top;\n",
       "    }\n",
       "\n",
       "    .dataframe thead th {\n",
       "        text-align: right;\n",
       "    }\n",
       "</style>\n",
       "<table border=\"1\" class=\"dataframe\">\n",
       "  <thead>\n",
       "    <tr style=\"text-align: right;\">\n",
       "      <th></th>\n",
       "      <th>SepalLengthCm</th>\n",
       "    </tr>\n",
       "  </thead>\n",
       "  <tbody>\n",
       "    <tr>\n",
       "      <th>14</th>\n",
       "      <td>0.708071</td>\n",
       "    </tr>\n",
       "    <tr>\n",
       "      <th>98</th>\n",
       "      <td>0.168506</td>\n",
       "    </tr>\n",
       "    <tr>\n",
       "      <th>75</th>\n",
       "      <td>0.342795</td>\n",
       "    </tr>\n",
       "    <tr>\n",
       "      <th>16</th>\n",
       "      <td>0.375321</td>\n",
       "    </tr>\n",
       "    <tr>\n",
       "      <th>131</th>\n",
       "      <td>0.173809</td>\n",
       "    </tr>\n",
       "    <tr>\n",
       "      <th>56</th>\n",
       "      <td>-0.288034</td>\n",
       "    </tr>\n",
       "    <tr>\n",
       "      <th>141</th>\n",
       "      <td>0.812481</td>\n",
       "    </tr>\n",
       "    <tr>\n",
       "      <th>44</th>\n",
       "      <td>-0.373063</td>\n",
       "    </tr>\n",
       "    <tr>\n",
       "      <th>29</th>\n",
       "      <td>-0.270115</td>\n",
       "    </tr>\n",
       "    <tr>\n",
       "      <th>120</th>\n",
       "      <td>0.249351</td>\n",
       "    </tr>\n",
       "    <tr>\n",
       "      <th>94</th>\n",
       "      <td>-0.363585</td>\n",
       "    </tr>\n",
       "    <tr>\n",
       "      <th>5</th>\n",
       "      <td>0.038149</td>\n",
       "    </tr>\n",
       "    <tr>\n",
       "      <th>102</th>\n",
       "      <td>0.301342</td>\n",
       "    </tr>\n",
       "    <tr>\n",
       "      <th>51</th>\n",
       "      <td>-0.009160</td>\n",
       "    </tr>\n",
       "    <tr>\n",
       "      <th>78</th>\n",
       "      <td>-0.237040</td>\n",
       "    </tr>\n",
       "    <tr>\n",
       "      <th>42</th>\n",
       "      <td>-0.317236</td>\n",
       "    </tr>\n",
       "    <tr>\n",
       "      <th>92</th>\n",
       "      <td>0.015290</td>\n",
       "    </tr>\n",
       "    <tr>\n",
       "      <th>66</th>\n",
       "      <td>-0.694413</td>\n",
       "    </tr>\n",
       "    <tr>\n",
       "      <th>31</th>\n",
       "      <td>0.493601</td>\n",
       "    </tr>\n",
       "    <tr>\n",
       "      <th>35</th>\n",
       "      <td>0.367056</td>\n",
       "    </tr>\n",
       "    <tr>\n",
       "      <th>90</th>\n",
       "      <td>-0.621882</td>\n",
       "    </tr>\n",
       "    <tr>\n",
       "      <th>84</th>\n",
       "      <td>-0.894413</td>\n",
       "    </tr>\n",
       "    <tr>\n",
       "      <th>77</th>\n",
       "      <td>0.078291</td>\n",
       "    </tr>\n",
       "    <tr>\n",
       "      <th>40</th>\n",
       "      <td>0.157729</td>\n",
       "    </tr>\n",
       "    <tr>\n",
       "      <th>125</th>\n",
       "      <td>0.061050</td>\n",
       "    </tr>\n",
       "    <tr>\n",
       "      <th>99</th>\n",
       "      <td>-0.236665</td>\n",
       "    </tr>\n",
       "    <tr>\n",
       "      <th>33</th>\n",
       "      <td>0.124739</td>\n",
       "    </tr>\n",
       "    <tr>\n",
       "      <th>19</th>\n",
       "      <td>-0.082976</td>\n",
       "    </tr>\n",
       "    <tr>\n",
       "      <th>73</th>\n",
       "      <td>-0.389506</td>\n",
       "    </tr>\n",
       "    <tr>\n",
       "      <th>146</th>\n",
       "      <td>0.452674</td>\n",
       "    </tr>\n",
       "  </tbody>\n",
       "</table>\n",
       "</div>"
      ],
      "text/plain": [
       "     SepalLengthCm\n",
       "14        0.708071\n",
       "98        0.168506\n",
       "75        0.342795\n",
       "16        0.375321\n",
       "131       0.173809\n",
       "56       -0.288034\n",
       "141       0.812481\n",
       "44       -0.373063\n",
       "29       -0.270115\n",
       "120       0.249351\n",
       "94       -0.363585\n",
       "5         0.038149\n",
       "102       0.301342\n",
       "51       -0.009160\n",
       "78       -0.237040\n",
       "42       -0.317236\n",
       "92        0.015290\n",
       "66       -0.694413\n",
       "31        0.493601\n",
       "35        0.367056\n",
       "90       -0.621882\n",
       "84       -0.894413\n",
       "77        0.078291\n",
       "40        0.157729\n",
       "125       0.061050\n",
       "99       -0.236665\n",
       "33        0.124739\n",
       "19       -0.082976\n",
       "73       -0.389506\n",
       "146       0.452674"
      ]
     },
     "execution_count": 49,
     "metadata": {},
     "output_type": "execute_result"
    }
   ],
   "source": [
    "df_res=pd.DataFrame(residuals)\n",
    "df_res"
   ]
  },
  {
   "cell_type": "code",
   "execution_count": 50,
   "id": "f889871c",
   "metadata": {},
   "outputs": [
    {
     "data": {
      "text/plain": [
       "<AxesSubplot:xlabel='SepalLengthCm', ylabel='Density'>"
      ]
     },
     "execution_count": 50,
     "metadata": {},
     "output_type": "execute_result"
    },
    {
     "data": {
      "image/png": "[encoded data removed]",
      "text/plain": [
       "<Figure size 432x288 with 1 Axes>"
      ]
     },
     "metadata": {
      "needs_background": "light"
     },
     "output_type": "display_data"
    }
   ],
   "source": [
    "sns.kdeplot(df_res['SepalLengthCm'],fill=True)"
   ]
  },
  {
   "cell_type": "code",
   "execution_count": 51,
   "id": "fb2cf8fc",
   "metadata": {},
   "outputs": [
    {
     "data": {
      "text/plain": [
       "0.08141477898407086"
      ]
     },
     "execution_count": 51,
     "metadata": {},
     "output_type": "execute_result"
    }
   ],
   "source": [
    "mse=mean_squared_error(y_train,y_pred_train)\n",
    "mse"
   ]
  },
  {
   "cell_type": "code",
   "execution_count": 52,
   "id": "eaa4e02d",
   "metadata": {},
   "outputs": [
    {
     "data": {
      "text/plain": [
       "0.2853327513344216"
      ]
     },
     "execution_count": 52,
     "metadata": {},
     "output_type": "execute_result"
    }
   ],
   "source": [
    "rmse=np.sqrt(mse)\n",
    "rmse"
   ]
  },
  {
   "cell_type": "code",
   "execution_count": 53,
   "id": "6fd60f04",
   "metadata": {},
   "outputs": [
    {
     "data": {
      "text/plain": [
       "0.8816124649726118"
      ]
     },
     "execution_count": 53,
     "metadata": {},
     "output_type": "execute_result"
    }
   ],
   "source": [
    "r2_score=r2_score(y_train,y_pred_train)\n",
    "r2_score"
   ]
  },
  {
   "cell_type": "code",
   "execution_count": 57,
   "id": "da51b54e",
   "metadata": {},
   "outputs": [
    {
     "data": {
      "text/plain": [
       "0.22951794887787844"
      ]
     },
     "execution_count": 57,
     "metadata": {},
     "output_type": "execute_result"
    }
   ],
   "source": [
    "mae=mean_absolute_error(y_train,y_pred_train)\n",
    "mae"
   ]
  },
  {
   "cell_type": "code",
   "execution_count": null,
   "id": "d979ea6a",
   "metadata": {},
   "outputs": [],
   "source": []
  }
 ],
 "metadata": {
  "kernelspec": {
   "display_name": "Python 3 (ipykernel)",
   "language": "python",
   "name": "python3"
  },
  "language_info": {
   "codemirror_mode": {
    "name": "ipython",
    "version": 3
   },
   "file_extension": ".py",
   "mimetype": "text/x-python",
   "name": "python",
   "nbconvert_exporter": "python",
   "pygments_lexer": "ipython3",
   "version": "3.9.12"
  }
 },
 "nbformat": 4,
 "nbformat_minor": 5
}
