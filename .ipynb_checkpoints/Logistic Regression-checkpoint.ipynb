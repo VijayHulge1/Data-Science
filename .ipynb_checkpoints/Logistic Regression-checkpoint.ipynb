{
 "cells": [
  {
   "cell_type": "markdown",
   "id": "f8216945",
   "metadata": {},
   "source": [
    "# Logistic Regression(classification)"
   ]
  },
  {
   "cell_type": "code",
   "execution_count": 1,
   "id": "26c9a773",
   "metadata": {},
   "outputs": [],
   "source": [
    "import pandas as pd\n",
    "import numpy as np\n",
    "import matplotlib.pyplot as plt\n",
    "import seaborn as sns\n",
    "\n",
    "from sklearn.linear_model import LogisticRegression\n",
    "from sklearn.model_selection import train_test_split\n",
    "from sklearn.metrics import confusion_matrix, accuracy_score, classification_report\n",
    "from sklearn.metrics import roc_auc_score, roc_curve\n",
    "from sklearn.preprocessing import LabelEncoder,OneHotEncoder\n"
   ]
  },
  {
   "cell_type": "markdown",
   "id": "45fe3d0e",
   "metadata": {},
   "source": [
    "# EDA:"
   ]
  },
  {
   "cell_type": "code",
   "execution_count": 3,
   "id": "ef6e9773",
   "metadata": {},
   "outputs": [
    {
     "name": "stdout",
     "output_type": "stream",
     "text": [
      "<class 'pandas.core.frame.DataFrame'>\n",
      "RangeIndex: 891 entries, 0 to 890\n",
      "Data columns (total 12 columns):\n",
      " #   Column       Non-Null Count  Dtype  \n",
      "---  ------       --------------  -----  \n",
      " 0   PassengerId  891 non-null    int64  \n",
      " 1   Survived     891 non-null    int64  \n",
      " 2   Pclass       891 non-null    int64  \n",
      " 3   Name         891 non-null    object \n",
      " 4   Sex          891 non-null    object \n",
      " 5   Age          714 non-null    float64\n",
      " 6   SibSp        891 non-null    int64  \n",
      " 7   Parch        891 non-null    int64  \n",
      " 8   Ticket       891 non-null    object \n",
      " 9   Fare         891 non-null    float64\n",
      " 10  Cabin        204 non-null    object \n",
      " 11  Embarked     889 non-null    object \n",
      "dtypes: float64(2), int64(5), object(5)\n",
      "memory usage: 83.7+ KB\n"
     ]
    }
   ],
   "source": [
    "df.info()"
   ]
  },
  {
   "cell_type": "code",
   "execution_count": 4,
   "id": "864ae5c5",
   "metadata": {},
   "outputs": [],
   "source": [
    "df.drop(['PassengerId','Name','Ticket','Cabin'],axis=1,inplace=True)"
   ]
  },
  {
   "cell_type": "code",
   "execution_count": 5,
   "id": "3143fe74",
   "metadata": {},
   "outputs": [
    {
     "data": {
      "text/html": [
       "<div>\n",
       "<style scoped>\n",
       "    .dataframe tbody tr th:only-of-type {\n",
       "        vertical-align: middle;\n",
       "    }\n",
       "\n",
       "    .dataframe tbody tr th {\n",
       "        vertical-align: top;\n",
       "    }\n",
       "\n",
       "    .dataframe thead th {\n",
       "        text-align: right;\n",
       "    }\n",
       "</style>\n",
       "<table border=\"1\" class=\"dataframe\">\n",
       "  <thead>\n",
       "    <tr style=\"text-align: right;\">\n",
       "      <th></th>\n",
       "      <th>Survived</th>\n",
       "      <th>Pclass</th>\n",
       "      <th>Age</th>\n",
       "      <th>SibSp</th>\n",
       "      <th>Parch</th>\n",
       "      <th>Fare</th>\n",
       "    </tr>\n",
       "  </thead>\n",
       "  <tbody>\n",
       "    <tr>\n",
       "      <th>Survived</th>\n",
       "      <td>1.000000</td>\n",
       "      <td>-0.338481</td>\n",
       "      <td>-0.077221</td>\n",
       "      <td>-0.035322</td>\n",
       "      <td>0.081629</td>\n",
       "      <td>0.257307</td>\n",
       "    </tr>\n",
       "    <tr>\n",
       "      <th>Pclass</th>\n",
       "      <td>-0.338481</td>\n",
       "      <td>1.000000</td>\n",
       "      <td>-0.369226</td>\n",
       "      <td>0.083081</td>\n",
       "      <td>0.018443</td>\n",
       "      <td>-0.549500</td>\n",
       "    </tr>\n",
       "    <tr>\n",
       "      <th>Age</th>\n",
       "      <td>-0.077221</td>\n",
       "      <td>-0.369226</td>\n",
       "      <td>1.000000</td>\n",
       "      <td>-0.308247</td>\n",
       "      <td>-0.189119</td>\n",
       "      <td>0.096067</td>\n",
       "    </tr>\n",
       "    <tr>\n",
       "      <th>SibSp</th>\n",
       "      <td>-0.035322</td>\n",
       "      <td>0.083081</td>\n",
       "      <td>-0.308247</td>\n",
       "      <td>1.000000</td>\n",
       "      <td>0.414838</td>\n",
       "      <td>0.159651</td>\n",
       "    </tr>\n",
       "    <tr>\n",
       "      <th>Parch</th>\n",
       "      <td>0.081629</td>\n",
       "      <td>0.018443</td>\n",
       "      <td>-0.189119</td>\n",
       "      <td>0.414838</td>\n",
       "      <td>1.000000</td>\n",
       "      <td>0.216225</td>\n",
       "    </tr>\n",
       "    <tr>\n",
       "      <th>Fare</th>\n",
       "      <td>0.257307</td>\n",
       "      <td>-0.549500</td>\n",
       "      <td>0.096067</td>\n",
       "      <td>0.159651</td>\n",
       "      <td>0.216225</td>\n",
       "      <td>1.000000</td>\n",
       "    </tr>\n",
       "  </tbody>\n",
       "</table>\n",
       "</div>"
      ],
      "text/plain": [
       "          Survived    Pclass       Age     SibSp     Parch      Fare\n",
       "Survived  1.000000 -0.338481 -0.077221 -0.035322  0.081629  0.257307\n",
       "Pclass   -0.338481  1.000000 -0.369226  0.083081  0.018443 -0.549500\n",
       "Age      -0.077221 -0.369226  1.000000 -0.308247 -0.189119  0.096067\n",
       "SibSp    -0.035322  0.083081 -0.308247  1.000000  0.414838  0.159651\n",
       "Parch     0.081629  0.018443 -0.189119  0.414838  1.000000  0.216225\n",
       "Fare      0.257307 -0.549500  0.096067  0.159651  0.216225  1.000000"
      ]
     },
     "execution_count": 5,
     "metadata": {},
     "output_type": "execute_result"
    }
   ],
   "source": [
    "df.corr()"
   ]
  },
  {
   "cell_type": "code",
   "execution_count": 6,
   "id": "d530d5de",
   "metadata": {},
   "outputs": [
    {
     "name": "stdout",
     "output_type": "stream",
     "text": [
      "<class 'pandas.core.frame.DataFrame'>\n",
      "RangeIndex: 891 entries, 0 to 890\n",
      "Data columns (total 8 columns):\n",
      " #   Column    Non-Null Count  Dtype  \n",
      "---  ------    --------------  -----  \n",
      " 0   Survived  891 non-null    int64  \n",
      " 1   Pclass    891 non-null    int64  \n",
      " 2   Sex       891 non-null    object \n",
      " 3   Age       714 non-null    float64\n",
      " 4   SibSp     891 non-null    int64  \n",
      " 5   Parch     891 non-null    int64  \n",
      " 6   Fare      891 non-null    float64\n",
      " 7   Embarked  889 non-null    object \n",
      "dtypes: float64(2), int64(4), object(2)\n",
      "memory usage: 55.8+ KB\n"
     ]
    }
   ],
   "source": [
    "df.info()"
   ]
  },
  {
   "cell_type": "code",
   "execution_count": 7,
   "id": "5759726a",
   "metadata": {},
   "outputs": [],
   "source": [
    "LabelE=LabelEncoder()\n",
    "df['Sex']=LabelE.fit_transform(df['Sex'])"
   ]
  },
  {
   "cell_type": "code",
   "execution_count": 8,
   "id": "17fb4d2d",
   "metadata": {},
   "outputs": [
    {
     "name": "stdout",
     "output_type": "stream",
     "text": [
      "<class 'pandas.core.frame.DataFrame'>\n",
      "RangeIndex: 891 entries, 0 to 890\n",
      "Data columns (total 8 columns):\n",
      " #   Column    Non-Null Count  Dtype  \n",
      "---  ------    --------------  -----  \n",
      " 0   Survived  891 non-null    int64  \n",
      " 1   Pclass    891 non-null    int64  \n",
      " 2   Sex       891 non-null    int32  \n",
      " 3   Age       714 non-null    float64\n",
      " 4   SibSp     891 non-null    int64  \n",
      " 5   Parch     891 non-null    int64  \n",
      " 6   Fare      891 non-null    float64\n",
      " 7   Embarked  889 non-null    object \n",
      "dtypes: float64(2), int32(1), int64(4), object(1)\n",
      "memory usage: 52.3+ KB\n"
     ]
    }
   ],
   "source": [
    "df.info()"
   ]
  },
  {
   "cell_type": "code",
   "execution_count": 9,
   "id": "a9300328",
   "metadata": {},
   "outputs": [],
   "source": [
    "df=pd.get_dummies(df,columns=['Embarked'])"
   ]
  },
  {
   "cell_type": "code",
   "execution_count": 10,
   "id": "ca6a05ac",
   "metadata": {},
   "outputs": [
    {
     "name": "stdout",
     "output_type": "stream",
     "text": [
      "<class 'pandas.core.frame.DataFrame'>\n",
      "RangeIndex: 891 entries, 0 to 890\n",
      "Data columns (total 10 columns):\n",
      " #   Column      Non-Null Count  Dtype  \n",
      "---  ------      --------------  -----  \n",
      " 0   Survived    891 non-null    int64  \n",
      " 1   Pclass      891 non-null    int64  \n",
      " 2   Sex         891 non-null    int32  \n",
      " 3   Age         714 non-null    float64\n",
      " 4   SibSp       891 non-null    int64  \n",
      " 5   Parch       891 non-null    int64  \n",
      " 6   Fare        891 non-null    float64\n",
      " 7   Embarked_C  891 non-null    uint8  \n",
      " 8   Embarked_Q  891 non-null    uint8  \n",
      " 9   Embarked_S  891 non-null    uint8  \n",
      "dtypes: float64(2), int32(1), int64(4), uint8(3)\n",
      "memory usage: 48.0 KB\n"
     ]
    }
   ],
   "source": [
    "df.info()"
   ]
  },
  {
   "cell_type": "code",
   "execution_count": 11,
   "id": "cd23e39c",
   "metadata": {},
   "outputs": [
    {
     "data": {
      "text/plain": [
       "Survived        0\n",
       "Pclass          0\n",
       "Sex             0\n",
       "Age           177\n",
       "SibSp           0\n",
       "Parch           0\n",
       "Fare            0\n",
       "Embarked_C      0\n",
       "Embarked_Q      0\n",
       "Embarked_S      0\n",
       "dtype: int64"
      ]
     },
     "execution_count": 11,
     "metadata": {},
     "output_type": "execute_result"
    }
   ],
   "source": [
    "df.isna().sum()"
   ]
  },
  {
   "cell_type": "code",
   "execution_count": 12,
   "id": "eaa8d48e",
   "metadata": {},
   "outputs": [],
   "source": [
    "df['Age'].fillna(df['Age'].median(),inplace=True)"
   ]
  },
  {
   "cell_type": "code",
   "execution_count": 13,
   "id": "dc30a5cb",
   "metadata": {},
   "outputs": [
    {
     "name": "stdout",
     "output_type": "stream",
     "text": [
      "<class 'pandas.core.frame.DataFrame'>\n",
      "RangeIndex: 891 entries, 0 to 890\n",
      "Data columns (total 10 columns):\n",
      " #   Column      Non-Null Count  Dtype  \n",
      "---  ------      --------------  -----  \n",
      " 0   Survived    891 non-null    int64  \n",
      " 1   Pclass      891 non-null    int64  \n",
      " 2   Sex         891 non-null    int32  \n",
      " 3   Age         891 non-null    float64\n",
      " 4   SibSp       891 non-null    int64  \n",
      " 5   Parch       891 non-null    int64  \n",
      " 6   Fare        891 non-null    float64\n",
      " 7   Embarked_C  891 non-null    uint8  \n",
      " 8   Embarked_Q  891 non-null    uint8  \n",
      " 9   Embarked_S  891 non-null    uint8  \n",
      "dtypes: float64(2), int32(1), int64(4), uint8(3)\n",
      "memory usage: 48.0 KB\n"
     ]
    }
   ],
   "source": [
    "df.info()"
   ]
  },
  {
   "cell_type": "code",
   "execution_count": 14,
   "id": "d5d3ab4c",
   "metadata": {},
   "outputs": [
    {
     "data": {
      "text/html": [
       "<div>\n",
       "<style scoped>\n",
       "    .dataframe tbody tr th:only-of-type {\n",
       "        vertical-align: middle;\n",
       "    }\n",
       "\n",
       "    .dataframe tbody tr th {\n",
       "        vertical-align: top;\n",
       "    }\n",
       "\n",
       "    .dataframe thead th {\n",
       "        text-align: right;\n",
       "    }\n",
       "</style>\n",
       "<table border=\"1\" class=\"dataframe\">\n",
       "  <thead>\n",
       "    <tr style=\"text-align: right;\">\n",
       "      <th></th>\n",
       "      <th>Survived</th>\n",
       "      <th>Pclass</th>\n",
       "      <th>Sex</th>\n",
       "      <th>Age</th>\n",
       "      <th>SibSp</th>\n",
       "      <th>Parch</th>\n",
       "      <th>Fare</th>\n",
       "      <th>Embarked_C</th>\n",
       "      <th>Embarked_Q</th>\n",
       "      <th>Embarked_S</th>\n",
       "    </tr>\n",
       "  </thead>\n",
       "  <tbody>\n",
       "    <tr>\n",
       "      <th>Survived</th>\n",
       "      <td>1.000000</td>\n",
       "      <td>-0.338481</td>\n",
       "      <td>-0.543351</td>\n",
       "      <td>-0.064910</td>\n",
       "      <td>-0.035322</td>\n",
       "      <td>0.081629</td>\n",
       "      <td>0.257307</td>\n",
       "      <td>0.168240</td>\n",
       "      <td>0.003650</td>\n",
       "      <td>-0.155660</td>\n",
       "    </tr>\n",
       "    <tr>\n",
       "      <th>Pclass</th>\n",
       "      <td>-0.338481</td>\n",
       "      <td>1.000000</td>\n",
       "      <td>0.131900</td>\n",
       "      <td>-0.339898</td>\n",
       "      <td>0.083081</td>\n",
       "      <td>0.018443</td>\n",
       "      <td>-0.549500</td>\n",
       "      <td>-0.243292</td>\n",
       "      <td>0.221009</td>\n",
       "      <td>0.081720</td>\n",
       "    </tr>\n",
       "    <tr>\n",
       "      <th>Sex</th>\n",
       "      <td>-0.543351</td>\n",
       "      <td>0.131900</td>\n",
       "      <td>1.000000</td>\n",
       "      <td>0.081163</td>\n",
       "      <td>-0.114631</td>\n",
       "      <td>-0.245489</td>\n",
       "      <td>-0.182333</td>\n",
       "      <td>-0.082853</td>\n",
       "      <td>-0.074115</td>\n",
       "      <td>0.125722</td>\n",
       "    </tr>\n",
       "    <tr>\n",
       "      <th>Age</th>\n",
       "      <td>-0.064910</td>\n",
       "      <td>-0.339898</td>\n",
       "      <td>0.081163</td>\n",
       "      <td>1.000000</td>\n",
       "      <td>-0.233296</td>\n",
       "      <td>-0.172482</td>\n",
       "      <td>0.096688</td>\n",
       "      <td>0.030248</td>\n",
       "      <td>-0.031415</td>\n",
       "      <td>-0.014665</td>\n",
       "    </tr>\n",
       "    <tr>\n",
       "      <th>SibSp</th>\n",
       "      <td>-0.035322</td>\n",
       "      <td>0.083081</td>\n",
       "      <td>-0.114631</td>\n",
       "      <td>-0.233296</td>\n",
       "      <td>1.000000</td>\n",
       "      <td>0.414838</td>\n",
       "      <td>0.159651</td>\n",
       "      <td>-0.059528</td>\n",
       "      <td>-0.026354</td>\n",
       "      <td>0.070941</td>\n",
       "    </tr>\n",
       "    <tr>\n",
       "      <th>Parch</th>\n",
       "      <td>0.081629</td>\n",
       "      <td>0.018443</td>\n",
       "      <td>-0.245489</td>\n",
       "      <td>-0.172482</td>\n",
       "      <td>0.414838</td>\n",
       "      <td>1.000000</td>\n",
       "      <td>0.216225</td>\n",
       "      <td>-0.011069</td>\n",
       "      <td>-0.081228</td>\n",
       "      <td>0.063036</td>\n",
       "    </tr>\n",
       "    <tr>\n",
       "      <th>Fare</th>\n",
       "      <td>0.257307</td>\n",
       "      <td>-0.549500</td>\n",
       "      <td>-0.182333</td>\n",
       "      <td>0.096688</td>\n",
       "      <td>0.159651</td>\n",
       "      <td>0.216225</td>\n",
       "      <td>1.000000</td>\n",
       "      <td>0.269335</td>\n",
       "      <td>-0.117216</td>\n",
       "      <td>-0.166603</td>\n",
       "    </tr>\n",
       "    <tr>\n",
       "      <th>Embarked_C</th>\n",
       "      <td>0.168240</td>\n",
       "      <td>-0.243292</td>\n",
       "      <td>-0.082853</td>\n",
       "      <td>0.030248</td>\n",
       "      <td>-0.059528</td>\n",
       "      <td>-0.011069</td>\n",
       "      <td>0.269335</td>\n",
       "      <td>1.000000</td>\n",
       "      <td>-0.148258</td>\n",
       "      <td>-0.778359</td>\n",
       "    </tr>\n",
       "    <tr>\n",
       "      <th>Embarked_Q</th>\n",
       "      <td>0.003650</td>\n",
       "      <td>0.221009</td>\n",
       "      <td>-0.074115</td>\n",
       "      <td>-0.031415</td>\n",
       "      <td>-0.026354</td>\n",
       "      <td>-0.081228</td>\n",
       "      <td>-0.117216</td>\n",
       "      <td>-0.148258</td>\n",
       "      <td>1.000000</td>\n",
       "      <td>-0.496624</td>\n",
       "    </tr>\n",
       "    <tr>\n",
       "      <th>Embarked_S</th>\n",
       "      <td>-0.155660</td>\n",
       "      <td>0.081720</td>\n",
       "      <td>0.125722</td>\n",
       "      <td>-0.014665</td>\n",
       "      <td>0.070941</td>\n",
       "      <td>0.063036</td>\n",
       "      <td>-0.166603</td>\n",
       "      <td>-0.778359</td>\n",
       "      <td>-0.496624</td>\n",
       "      <td>1.000000</td>\n",
       "    </tr>\n",
       "  </tbody>\n",
       "</table>\n",
       "</div>"
      ],
      "text/plain": [
       "            Survived    Pclass       Sex       Age     SibSp     Parch  \\\n",
       "Survived    1.000000 -0.338481 -0.543351 -0.064910 -0.035322  0.081629   \n",
       "Pclass     -0.338481  1.000000  0.131900 -0.339898  0.083081  0.018443   \n",
       "Sex        -0.543351  0.131900  1.000000  0.081163 -0.114631 -0.245489   \n",
       "Age        -0.064910 -0.339898  0.081163  1.000000 -0.233296 -0.172482   \n",
       "SibSp      -0.035322  0.083081 -0.114631 -0.233296  1.000000  0.414838   \n",
       "Parch       0.081629  0.018443 -0.245489 -0.172482  0.414838  1.000000   \n",
       "Fare        0.257307 -0.549500 -0.182333  0.096688  0.159651  0.216225   \n",
       "Embarked_C  0.168240 -0.243292 -0.082853  0.030248 -0.059528 -0.011069   \n",
       "Embarked_Q  0.003650  0.221009 -0.074115 -0.031415 -0.026354 -0.081228   \n",
       "Embarked_S -0.155660  0.081720  0.125722 -0.014665  0.070941  0.063036   \n",
       "\n",
       "                Fare  Embarked_C  Embarked_Q  Embarked_S  \n",
       "Survived    0.257307    0.168240    0.003650   -0.155660  \n",
       "Pclass     -0.549500   -0.243292    0.221009    0.081720  \n",
       "Sex        -0.182333   -0.082853   -0.074115    0.125722  \n",
       "Age         0.096688    0.030248   -0.031415   -0.014665  \n",
       "SibSp       0.159651   -0.059528   -0.026354    0.070941  \n",
       "Parch       0.216225   -0.011069   -0.081228    0.063036  \n",
       "Fare        1.000000    0.269335   -0.117216   -0.166603  \n",
       "Embarked_C  0.269335    1.000000   -0.148258   -0.778359  \n",
       "Embarked_Q -0.117216   -0.148258    1.000000   -0.496624  \n",
       "Embarked_S -0.166603   -0.778359   -0.496624    1.000000  "
      ]
     },
     "execution_count": 14,
     "metadata": {},
     "output_type": "execute_result"
    }
   ],
   "source": [
    "df.corr()"
   ]
  },
  {
   "cell_type": "code",
   "execution_count": 15,
   "id": "9d9da0a6",
   "metadata": {},
   "outputs": [
    {
     "data": {
      "text/plain": [
       "<AxesSubplot:>"
      ]
     },
     "execution_count": 15,
     "metadata": {},
     "output_type": "execute_result"
    },
    {
     "data": {
      "image/png": "[encoded data removed]",
      "text/plain": [
       "<Figure size 432x288 with 2 Axes>"
      ]
     },
     "metadata": {
      "needs_background": "light"
     },
     "output_type": "display_data"
    }
   ],
   "source": [
    "sns.heatmap(df.corr(),annot=True)"
   ]
  },
  {
   "cell_type": "code",
   "execution_count": 16,
   "id": "69f8b808",
   "metadata": {},
   "outputs": [
    {
     "data": {
      "text/plain": [
       "0    549\n",
       "1    342\n",
       "Name: Survived, dtype: int64"
      ]
     },
     "execution_count": 16,
     "metadata": {},
     "output_type": "execute_result"
    }
   ],
   "source": [
    "df['Survived'].value_counts()"
   ]
  },
  {
   "cell_type": "code",
   "execution_count": 17,
   "id": "01118d86",
   "metadata": {},
   "outputs": [
    {
     "data": {
      "text/plain": [
       "<AxesSubplot:xlabel='Survived', ylabel='count'>"
      ]
     },
     "execution_count": 17,
     "metadata": {},
     "output_type": "execute_result"
    },
    {
     "data": {
      "image/png": "[encoded data removed]",
      "text/plain": [
       "<Figure size 432x288 with 1 Axes>"
      ]
     },
     "metadata": {
      "needs_background": "light"
     },
     "output_type": "display_data"
    }
   ],
   "source": [
    "sns.countplot(x='Survived',data=df)"
   ]
  },
  {
   "cell_type": "code",
   "execution_count": 18,
   "id": "81a23079",
   "metadata": {},
   "outputs": [
    {
     "data": {
      "text/plain": [
       "<AxesSubplot:xlabel='Survived', ylabel='count'>"
      ]
     },
     "execution_count": 18,
     "metadata": {},
     "output_type": "execute_result"
    },
    {
     "data": {
      "image/png": "[encoded data removed]",
      "text/plain": [
       "<Figure size 432x288 with 1 Axes>"
      ]
     },
     "metadata": {
      "needs_background": "light"
     },
     "output_type": "display_data"
    }
   ],
   "source": [
    "sns.countplot(x='Survived',hue='Sex',data=df)"
   ]
  },
  {
   "cell_type": "markdown",
   "id": "e075f332",
   "metadata": {},
   "source": [
    "# Model Building/Training:"
   ]
  },
  {
   "cell_type": "code",
   "execution_count": 19,
   "id": "eb0eba6b",
   "metadata": {},
   "outputs": [],
   "source": [
    "x=df.drop('Survived',axis=1)\n",
    "y=df['Survived']"
   ]
  },
  {
   "cell_type": "code",
   "execution_count": 20,
   "id": "e9ab684b",
   "metadata": {},
   "outputs": [],
   "source": [
    "#train_test_split"
   ]
  },
  {
   "cell_type": "code",
   "execution_count": 21,
   "id": "8fed5f5d",
   "metadata": {},
   "outputs": [],
   "source": [
    "x_train,x_test,y_train,y_test=train_test_split(x,y,test_size=0.2,random_state=1,stratify=y)"
   ]
  },
  {
   "cell_type": "code",
   "execution_count": 22,
   "id": "9f4f4563",
   "metadata": {},
   "outputs": [
    {
     "data": {
      "text/plain": [
       "0    549\n",
       "1    342\n",
       "Name: Survived, dtype: int64"
      ]
     },
     "execution_count": 22,
     "metadata": {},
     "output_type": "execute_result"
    }
   ],
   "source": [
    "y.value_counts()"
   ]
  },
  {
   "cell_type": "code",
   "execution_count": 23,
   "id": "3483a001",
   "metadata": {},
   "outputs": [
    {
     "data": {
      "text/plain": [
       "0.6229508196721312"
      ]
     },
     "execution_count": 23,
     "metadata": {},
     "output_type": "execute_result"
    }
   ],
   "source": [
    "342/549"
   ]
  },
  {
   "cell_type": "code",
   "execution_count": 24,
   "id": "7dbfbb41",
   "metadata": {},
   "outputs": [
    {
     "data": {
      "text/plain": [
       "0    110\n",
       "1     69\n",
       "Name: Survived, dtype: int64"
      ]
     },
     "execution_count": 24,
     "metadata": {},
     "output_type": "execute_result"
    }
   ],
   "source": [
    "y_test.value_counts()"
   ]
  },
  {
   "cell_type": "code",
   "execution_count": 25,
   "id": "8b597c4c",
   "metadata": {},
   "outputs": [
    {
     "data": {
      "text/plain": [
       "0.6272727272727273"
      ]
     },
     "execution_count": 25,
     "metadata": {},
     "output_type": "execute_result"
    }
   ],
   "source": [
    "69/110"
   ]
  },
  {
   "cell_type": "markdown",
   "id": "ecd18c88",
   "metadata": {},
   "source": [
    "# Model Instantiating:"
   ]
  },
  {
   "cell_type": "code",
   "execution_count": 26,
   "id": "15db0cd6",
   "metadata": {},
   "outputs": [
    {
     "data": {
      "text/plain": [
       "LogisticRegression()"
      ]
     },
     "execution_count": 26,
     "metadata": {},
     "output_type": "execute_result"
    }
   ],
   "source": [
    "log_model=LogisticRegression()\n",
    "log_model"
   ]
  },
  {
   "cell_type": "code",
   "execution_count": 27,
   "id": "87577d74",
   "metadata": {},
   "outputs": [
    {
     "name": "stderr",
     "output_type": "stream",
     "text": [
      "D:\\anaconda\\lib\\site-packages\\sklearn\\linear_model\\_logistic.py:814: ConvergenceWarning: lbfgs failed to converge (status=1):\n",
      "STOP: TOTAL NO. of ITERATIONS REACHED LIMIT.\n",
      "\n",
      "Increase the number of iterations (max_iter) or scale the data as shown in:\n",
      "    https://scikit-learn.org/stable/modules/preprocessing.html\n",
      "Please also refer to the documentation for alternative solver options:\n",
      "    https://scikit-learn.org/stable/modules/linear_model.html#logistic-regression\n",
      "  n_iter_i = _check_optimize_result(\n"
     ]
    },
    {
     "data": {
      "text/plain": [
       "LogisticRegression()"
      ]
     },
     "execution_count": 27,
     "metadata": {},
     "output_type": "execute_result"
    }
   ],
   "source": [
    "log_model.fit(x_train,y_train)"
   ]
  },
  {
   "cell_type": "markdown",
   "id": "714abffc",
   "metadata": {},
   "source": [
    "# prediction:"
   ]
  },
  {
   "cell_type": "code",
   "execution_count": 30,
   "id": "42a561c9",
   "metadata": {},
   "outputs": [
    {
     "data": {
      "text/plain": [
       "array([0, 0, 0, 0, 0, 0, 0, 0, 0, 0, 1, 1, 0, 0, 1, 0, 0, 1, 1, 0, 0, 0,\n",
       "       1, 0, 0, 0, 1, 1, 0, 0, 0, 0, 1, 1, 0, 1, 0, 0, 1, 0, 0, 1, 0, 0,\n",
       "       1, 1, 1, 0, 0, 1, 0, 0, 0, 1, 0, 0, 1, 1, 0, 1, 0, 1, 1, 0, 1, 0,\n",
       "       1, 0, 1, 0, 1, 1, 0, 0, 1, 0, 0, 0, 0, 0, 0, 0, 0, 1, 0, 0, 0, 0,\n",
       "       0, 0, 0, 1, 0, 1, 1, 0, 0, 0, 1, 1, 0, 0, 0, 0, 1, 1, 0, 0, 0, 0,\n",
       "       0, 1, 0, 0, 1, 1, 1, 1, 1, 1, 0, 1, 1, 0, 0, 0, 0, 1, 1, 0, 0, 0,\n",
       "       1, 1, 1, 0, 0, 0, 0, 1, 0, 0, 0, 1, 0, 0, 0, 0, 0, 0, 0, 1, 1, 0,\n",
       "       0, 1, 0, 0, 1, 0, 0, 0, 0, 0, 0, 0, 0, 1, 1, 1, 0, 1, 0, 0, 1, 0,\n",
       "       1, 0, 0], dtype=int64)"
      ]
     },
     "execution_count": 30,
     "metadata": {},
     "output_type": "execute_result"
    }
   ],
   "source": [
    "y_pred=log_model.predict(x_test)\n",
    "y_pred"
   ]
  },
  {
   "cell_type": "code",
   "execution_count": 31,
   "id": "34f26e06",
   "metadata": {},
   "outputs": [
    {
     "data": {
      "text/plain": [
       "array([[0.91650681, 0.08349319],\n",
       "       [0.71880334, 0.28119666],\n",
       "       [0.76624526, 0.23375474],\n",
       "       [0.65441375, 0.34558625],\n",
       "       [0.89258179, 0.10741821],\n",
       "       [0.87633808, 0.12366192],\n",
       "       [0.916367  , 0.083633  ],\n",
       "       [0.5094719 , 0.4905281 ],\n",
       "       [0.6914548 , 0.3085452 ],\n",
       "       [0.87187025, 0.12812975],\n",
       "       [0.10823263, 0.89176737],\n",
       "       [0.42826607, 0.57173393],\n",
       "       [0.51718841, 0.48281159],\n",
       "       [0.93600567, 0.06399433],\n",
       "       [0.02004044, 0.97995956],\n",
       "       [0.888294  , 0.111706  ],\n",
       "       [0.88564816, 0.11435184],\n",
       "       [0.21137444, 0.78862556],\n",
       "       [0.29793969, 0.70206031],\n",
       "       [0.6914548 , 0.3085452 ],\n",
       "       [0.87624345, 0.12375655],\n",
       "       [0.89994708, 0.10005292],\n",
       "       [0.0880354 , 0.9119646 ],\n",
       "       [0.95903934, 0.04096066],\n",
       "       [0.88330337, 0.11669663],\n",
       "       [0.89406937, 0.10593063],\n",
       "       [0.23202276, 0.76797724],\n",
       "       [0.31270829, 0.68729171],\n",
       "       [0.90861489, 0.09138511],\n",
       "       [0.78670376, 0.21329624],\n",
       "       [0.90354221, 0.09645779],\n",
       "       [0.84224405, 0.15775595],\n",
       "       [0.27954979, 0.72045021],\n",
       "       [0.25797834, 0.74202166],\n",
       "       [0.90344212, 0.09655788],\n",
       "       [0.38264973, 0.61735027],\n",
       "       [0.99301106, 0.00698894],\n",
       "       [0.8962697 , 0.1037303 ],\n",
       "       [0.4426153 , 0.5573847 ],\n",
       "       [0.88832437, 0.11167563],\n",
       "       [0.83447052, 0.16552948],\n",
       "       [0.35042624, 0.64957376],\n",
       "       [0.90359555, 0.09640445],\n",
       "       [0.93320438, 0.06679562],\n",
       "       [0.25031228, 0.74968772],\n",
       "       [0.13305809, 0.86694191],\n",
       "       [0.04611227, 0.95388773],\n",
       "       [0.85292111, 0.14707889],\n",
       "       [0.82068652, 0.17931348],\n",
       "       [0.35933135, 0.64066865],\n",
       "       [0.89629895, 0.10370105],\n",
       "       [0.88583231, 0.11416769],\n",
       "       [0.9051306 , 0.0948694 ],\n",
       "       [0.3647157 , 0.6352843 ],\n",
       "       [0.94693668, 0.05306332],\n",
       "       [0.93717877, 0.06282123],\n",
       "       [0.25446252, 0.74553748],\n",
       "       [0.02526472, 0.97473528],\n",
       "       [0.66953071, 0.33046929],\n",
       "       [0.35933135, 0.64066865],\n",
       "       [0.88564816, 0.11435184],\n",
       "       [0.48089544, 0.51910456],\n",
       "       [0.35459266, 0.64540734],\n",
       "       [0.90348069, 0.09651931],\n",
       "       [0.23382587, 0.76617413],\n",
       "       [0.84519459, 0.15480541],\n",
       "       [0.13590305, 0.86409695],\n",
       "       [0.50393129, 0.49606871],\n",
       "       [0.24134091, 0.75865909],\n",
       "       [0.58344441, 0.41655559],\n",
       "       [0.07660867, 0.92339133],\n",
       "       [0.21160582, 0.78839418],\n",
       "       [0.76624526, 0.23375474],\n",
       "       [0.53737479, 0.46262521],\n",
       "       [0.21173333, 0.78826667],\n",
       "       [0.7179514 , 0.2820486 ],\n",
       "       [0.85299149, 0.14700851],\n",
       "       [0.57613034, 0.42386966],\n",
       "       [0.89996545, 0.10003455],\n",
       "       [0.68486254, 0.31513746],\n",
       "       [0.86680445, 0.13319555],\n",
       "       [0.81821163, 0.18178837],\n",
       "       [0.94296563, 0.05703437],\n",
       "       [0.22704162, 0.77295838],\n",
       "       [0.93781788, 0.06218212],\n",
       "       [0.76624526, 0.23375474],\n",
       "       [0.91911514, 0.08088486],\n",
       "       [0.53040578, 0.46959422],\n",
       "       [0.87621579, 0.12378421],\n",
       "       [0.89609172, 0.10390828],\n",
       "       [0.83581075, 0.16418925],\n",
       "       [0.36331028, 0.63668972],\n",
       "       [0.77183884, 0.22816116],\n",
       "       [0.23912649, 0.76087351],\n",
       "       [0.20373794, 0.79626206],\n",
       "       [0.91952319, 0.08047681],\n",
       "       [0.88671223, 0.11328777],\n",
       "       [0.53042138, 0.46957862],\n",
       "       [0.40424068, 0.59575932],\n",
       "       [0.03863793, 0.96136207],\n",
       "       [0.90011614, 0.09988386],\n",
       "       [0.87608016, 0.12391984],\n",
       "       [0.80620524, 0.19379476],\n",
       "       [0.62031109, 0.37968891],\n",
       "       [0.34831283, 0.65168717],\n",
       "       [0.46493684, 0.53506316],\n",
       "       [0.87187025, 0.12812975],\n",
       "       [0.83192421, 0.16807579],\n",
       "       [0.83447171, 0.16552829],\n",
       "       [0.87155744, 0.12844256],\n",
       "       [0.80817746, 0.19182254],\n",
       "       [0.06914045, 0.93085955],\n",
       "       [0.93949892, 0.06050108],\n",
       "       [0.90345325, 0.09654675],\n",
       "       [0.145132  , 0.854868  ],\n",
       "       [0.12990393, 0.87009607],\n",
       "       [0.14276854, 0.85723146],\n",
       "       [0.35710166, 0.64289834],\n",
       "       [0.35939204, 0.64060796],\n",
       "       [0.40399499, 0.59600501],\n",
       "       [0.94652586, 0.05347414],\n",
       "       [0.03958304, 0.96041696],\n",
       "       [0.35847444, 0.64152556],\n",
       "       [0.67820437, 0.32179563],\n",
       "       [0.91411392, 0.08588608],\n",
       "       [0.88053079, 0.11946921],\n",
       "       [0.66455588, 0.33544412],\n",
       "       [0.4013624 , 0.5986376 ],\n",
       "       [0.29500301, 0.70499699],\n",
       "       [0.85808324, 0.14191676],\n",
       "       [0.91018916, 0.08981084],\n",
       "       [0.86727787, 0.13272213],\n",
       "       [0.04938794, 0.95061206],\n",
       "       [0.10785596, 0.89214404],\n",
       "       [0.35939204, 0.64060796],\n",
       "       [0.75414214, 0.24585786],\n",
       "       [0.80587176, 0.19412824],\n",
       "       [0.92533946, 0.07466054],\n",
       "       [0.8979203 , 0.1020797 ],\n",
       "       [0.28345822, 0.71654178],\n",
       "       [0.88465009, 0.11534991],\n",
       "       [0.68167721, 0.31832279],\n",
       "       [0.67622376, 0.32377624],\n",
       "       [0.24069236, 0.75930764],\n",
       "       [0.92794288, 0.07205712],\n",
       "       [0.83804734, 0.16195266],\n",
       "       [0.90348069, 0.09651931],\n",
       "       [0.92347702, 0.07652298],\n",
       "       [0.92726901, 0.07273099],\n",
       "       [0.8855017 , 0.1144983 ],\n",
       "       [0.90345325, 0.09654675],\n",
       "       [0.41344841, 0.58655159],\n",
       "       [0.04282191, 0.95717809],\n",
       "       [0.76146029, 0.23853971],\n",
       "       [0.92809218, 0.07190782],\n",
       "       [0.12867948, 0.87132052],\n",
       "       [0.62137751, 0.37862249],\n",
       "       [0.90690599, 0.09309401],\n",
       "       [0.22441441, 0.77558559],\n",
       "       [0.91652913, 0.08347087],\n",
       "       [0.63564805, 0.36435195],\n",
       "       [0.90348069, 0.09651931],\n",
       "       [0.87205346, 0.12794654],\n",
       "       [0.84799368, 0.15200632],\n",
       "       [0.89630053, 0.10369947],\n",
       "       [0.88564816, 0.11435184],\n",
       "       [0.88563179, 0.11436821],\n",
       "       [0.17768805, 0.82231195],\n",
       "       [0.30634701, 0.69365299],\n",
       "       [0.04872792, 0.95127208],\n",
       "       [0.86258613, 0.13741387],\n",
       "       [0.05242189, 0.94757811],\n",
       "       [0.52510221, 0.47489779],\n",
       "       [0.90345325, 0.09654675],\n",
       "       [0.40084216, 0.59915784],\n",
       "       [0.88221492, 0.11778508],\n",
       "       [0.18780423, 0.81219577],\n",
       "       [0.9768361 , 0.0231639 ],\n",
       "       [0.66032905, 0.33967095]])"
      ]
     },
     "execution_count": 31,
     "metadata": {},
     "output_type": "execute_result"
    }
   ],
   "source": [
    "y_pred_prob=log_model.predict_proba(x_test)\n",
    "y_pred_prob"
   ]
  },
  {
   "cell_type": "markdown",
   "id": "6083cec0",
   "metadata": {},
   "source": [
    "# Accuracy:"
   ]
  },
  {
   "cell_type": "code",
   "execution_count": 32,
   "id": "61abcda6",
   "metadata": {},
   "outputs": [
    {
     "data": {
      "text/plain": [
       "0.7988826815642458"
      ]
     },
     "execution_count": 32,
     "metadata": {},
     "output_type": "execute_result"
    }
   ],
   "source": [
    "test_accuracy=accuracy_score(y_test,y_pred)\n",
    "test_accuracy"
   ]
  },
  {
   "cell_type": "markdown",
   "id": "0b4b4e8b",
   "metadata": {},
   "source": [
    "# Confusion matrix:"
   ]
  },
  {
   "cell_type": "code",
   "execution_count": 35,
   "id": "66af768b",
   "metadata": {},
   "outputs": [
    {
     "data": {
      "text/plain": [
       "array([[95, 15],\n",
       "       [21, 48]], dtype=int64)"
      ]
     },
     "execution_count": 35,
     "metadata": {},
     "output_type": "execute_result"
    }
   ],
   "source": [
    "conf_mat=confusion_matrix(y_test,y_pred)\n",
    "conf_mat"
   ]
  },
  {
   "cell_type": "code",
   "execution_count": 36,
   "id": "9373cbca",
   "metadata": {},
   "outputs": [],
   "source": [
    "# o/p is in scikit confusion matrix which is diff from our standard confusion matrix"
   ]
  },
  {
   "cell_type": "raw",
   "id": "c83418cc",
   "metadata": {},
   "source": [
    "# we can aslo check accuracy by using accuracy formula\n",
    "  accuracy= (TP+TN)/(TP+FP+TN+FN)"
   ]
  },
  {
   "cell_type": "code",
   "execution_count": 38,
   "id": "61dec32f",
   "metadata": {},
   "outputs": [
    {
     "data": {
      "text/plain": [
       "0.7988826815642458"
      ]
     },
     "execution_count": 38,
     "metadata": {},
     "output_type": "execute_result"
    }
   ],
   "source": [
    "accuracy=(48+95)/(95+15+21+48)\n",
    "accuracy"
   ]
  },
  {
   "cell_type": "markdown",
   "id": "52262456",
   "metadata": {},
   "source": [
    "# Classification report:"
   ]
  },
  {
   "cell_type": "code",
   "execution_count": 41,
   "id": "19383818",
   "metadata": {},
   "outputs": [
    {
     "name": "stdout",
     "output_type": "stream",
     "text": [
      "              precision    recall  f1-score   support\n",
      "\n",
      "           0       0.82      0.86      0.84       110\n",
      "           1       0.76      0.70      0.73        69\n",
      "\n",
      "    accuracy                           0.80       179\n",
      "   macro avg       0.79      0.78      0.78       179\n",
      "weighted avg       0.80      0.80      0.80       179\n",
      "\n"
     ]
    }
   ],
   "source": [
    "cls_rep=classification_report(y_test,y_pred)\n",
    "print(cls_rep)"
   ]
  },
  {
   "cell_type": "markdown",
   "id": "845256a6",
   "metadata": {},
   "source": [
    "# Roc-Curve:"
   ]
  },
  {
   "cell_type": "code",
   "execution_count": 44,
   "id": "aa68f899",
   "metadata": {},
   "outputs": [],
   "source": [
    "fpr,tpr,threshold=roc_curve(y_test,y_pred_prob[:,1])"
   ]
  },
  {
   "cell_type": "code",
   "execution_count": 46,
   "id": "2f2bc03a",
   "metadata": {},
   "outputs": [
    {
     "data": {
      "text/plain": [
       "Text(0, 0.5, 'Tpr')"
      ]
     },
     "execution_count": 46,
     "metadata": {},
     "output_type": "execute_result"
    },
    {
     "data": {
      "image/png": "[encoded data removed]",
      "text/plain": [
       "<Figure size 432x288 with 1 Axes>"
      ]
     },
     "metadata": {
      "needs_background": "light"
     },
     "output_type": "display_data"
    }
   ],
   "source": [
    "plt.plot(fpr,tpr)\n",
    "plt.title('ROC CURVE')\n",
    "plt.xlabel('FPR')\n",
    "plt.ylabel('Tpr')"
   ]
  },
  {
   "cell_type": "markdown",
   "id": "bc7e4933",
   "metadata": {},
   "source": [
    "# Roc-Auc score:"
   ]
  },
  {
   "cell_type": "code",
   "execution_count": 47,
   "id": "40b8f4f7",
   "metadata": {},
   "outputs": [
    {
     "data": {
      "text/plain": [
       "0.8359025032938077"
      ]
     },
     "execution_count": 47,
     "metadata": {},
     "output_type": "execute_result"
    }
   ],
   "source": [
    "r_a_score=roc_auc_score(y_test,y_pred_prob[:,1])\n",
    "r_a_score"
   ]
  },
  {
   "cell_type": "code",
   "execution_count": null,
   "id": "8d66216e",
   "metadata": {},
   "outputs": [],
   "source": []
  }
 ],
 "metadata": {
  "kernelspec": {
   "display_name": "Python 3 (ipykernel)",
   "language": "python",
   "name": "python3"
  },
  "language_info": {
   "codemirror_mode": {
    "name": "ipython",
    "version": 3
   },
   "file_extension": ".py",
   "mimetype": "text/x-python",
   "name": "python",
   "nbconvert_exporter": "python",
   "pygments_lexer": "ipython3",
   "version": "3.9.12"
  }
 },
 "nbformat": 4,
 "nbformat_minor": 5
}
